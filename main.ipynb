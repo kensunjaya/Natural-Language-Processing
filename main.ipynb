{
 "cells": [
  {
   "cell_type": "code",
   "execution_count": 1,
   "metadata": {},
   "outputs": [
    {
     "name": "stdout",
     "output_type": "stream",
     "text": [
      "0.6405126152203486\n"
     ]
    }
   ],
   "source": [
    "from nltk.tokenize import word_tokenize\n",
    "from math import sqrt\n",
    "\n",
    "word = [\"Python pickle module is used for serializing and de-serializing a Python object structure\",\n",
    "        \"The Python pickle package is used to serialize and deserialize a Python object structure\"]\n",
    "\n",
    "d = []\n",
    "max = 0\n",
    "\n",
    "for i in range(len(word)):\n",
    "  d.append({})\n",
    "  for j in word_tokenize(word[i]):\n",
    "    if j in d:\n",
    "      d[i][j] += 1\n",
    "    else:\n",
    "      d[i][j] = 1\n",
    "  if len(d[i]) > max:\n",
    "    max = len(d[i])\n",
    "\n",
    "a = 0\n",
    "for i in d[0]:\n",
    "  if i in d[1]:\n",
    "    a += (d[0][i] * d[1][i])\n",
    "\n",
    "b = 1\n",
    "for i in d:\n",
    "  temp = 0\n",
    "  for j in i:\n",
    "    temp += i[j] ** 2\n",
    "  b *= sqrt(temp)\n",
    "\n",
    "cosine_similarity = a / b\n",
    "print(cosine_similarity)\n"
   ]
  }
 ],
 "metadata": {
  "kernelspec": {
   "display_name": "Python 3",
   "language": "python",
   "name": "python3"
  },
  "language_info": {
   "codemirror_mode": {
    "name": "ipython",
    "version": 3
   },
   "file_extension": ".py",
   "mimetype": "text/x-python",
   "name": "python",
   "nbconvert_exporter": "python",
   "pygments_lexer": "ipython3",
   "version": "3.11.4"
  }
 },
 "nbformat": 4,
 "nbformat_minor": 2
}
